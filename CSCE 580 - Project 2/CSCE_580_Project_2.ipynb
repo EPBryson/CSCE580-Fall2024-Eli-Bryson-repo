{
  "nbformat": 4,
  "nbformat_minor": 0,
  "metadata": {
    "colab": {
      "provenance": []
    },
    "kernelspec": {
      "name": "python3",
      "display_name": "Python 3"
    },
    "language_info": {
      "name": "python"
    }
  },
  "cells": [
    {
      "cell_type": "markdown",
      "source": [
        "1. Dataset Overview: Use the IMDB Movie Review Dataset"
      ],
      "metadata": {
        "id": "23784VIOEpEY"
      }
    },
    {
      "cell_type": "code",
      "execution_count": 33,
      "metadata": {
        "colab": {
          "base_uri": "https://localhost:8080/"
        },
        "id": "hQFjJVsmsXuF",
        "outputId": "ea506f0f-0543-4368-c956-622cc7aacda2"
      },
      "outputs": [
        {
          "output_type": "stream",
          "name": "stdout",
          "text": [
            "Requirement already satisfied: kagglehub in /usr/local/lib/python3.10/dist-packages (0.3.4)\n",
            "Requirement already satisfied: transformers in /usr/local/lib/python3.10/dist-packages (4.46.2)\n",
            "Requirement already satisfied: datasets in /usr/local/lib/python3.10/dist-packages (3.1.0)\n",
            "Requirement already satisfied: scikit-learn in /usr/local/lib/python3.10/dist-packages (1.5.2)\n",
            "Requirement already satisfied: packaging in /usr/local/lib/python3.10/dist-packages (from kagglehub) (24.2)\n",
            "Requirement already satisfied: requests in /usr/local/lib/python3.10/dist-packages (from kagglehub) (2.32.3)\n",
            "Requirement already satisfied: tqdm in /usr/local/lib/python3.10/dist-packages (from kagglehub) (4.66.6)\n",
            "Requirement already satisfied: filelock in /usr/local/lib/python3.10/dist-packages (from transformers) (3.16.1)\n",
            "Requirement already satisfied: huggingface-hub<1.0,>=0.23.2 in /usr/local/lib/python3.10/dist-packages (from transformers) (0.26.2)\n",
            "Requirement already satisfied: numpy>=1.17 in /usr/local/lib/python3.10/dist-packages (from transformers) (1.26.4)\n",
            "Requirement already satisfied: pyyaml>=5.1 in /usr/local/lib/python3.10/dist-packages (from transformers) (6.0.2)\n",
            "Requirement already satisfied: regex!=2019.12.17 in /usr/local/lib/python3.10/dist-packages (from transformers) (2024.9.11)\n",
            "Requirement already satisfied: safetensors>=0.4.1 in /usr/local/lib/python3.10/dist-packages (from transformers) (0.4.5)\n",
            "Requirement already satisfied: tokenizers<0.21,>=0.20 in /usr/local/lib/python3.10/dist-packages (from transformers) (0.20.3)\n",
            "Requirement already satisfied: pyarrow>=15.0.0 in /usr/local/lib/python3.10/dist-packages (from datasets) (17.0.0)\n",
            "Requirement already satisfied: dill<0.3.9,>=0.3.0 in /usr/local/lib/python3.10/dist-packages (from datasets) (0.3.8)\n",
            "Requirement already satisfied: pandas in /usr/local/lib/python3.10/dist-packages (from datasets) (2.2.2)\n",
            "Requirement already satisfied: xxhash in /usr/local/lib/python3.10/dist-packages (from datasets) (3.5.0)\n",
            "Requirement already satisfied: multiprocess<0.70.17 in /usr/local/lib/python3.10/dist-packages (from datasets) (0.70.16)\n",
            "Requirement already satisfied: fsspec<=2024.9.0,>=2023.1.0 in /usr/local/lib/python3.10/dist-packages (from fsspec[http]<=2024.9.0,>=2023.1.0->datasets) (2024.9.0)\n",
            "Requirement already satisfied: aiohttp in /usr/local/lib/python3.10/dist-packages (from datasets) (3.11.2)\n",
            "Requirement already satisfied: scipy>=1.6.0 in /usr/local/lib/python3.10/dist-packages (from scikit-learn) (1.13.1)\n",
            "Requirement already satisfied: joblib>=1.2.0 in /usr/local/lib/python3.10/dist-packages (from scikit-learn) (1.4.2)\n",
            "Requirement already satisfied: threadpoolctl>=3.1.0 in /usr/local/lib/python3.10/dist-packages (from scikit-learn) (3.5.0)\n",
            "Requirement already satisfied: aiohappyeyeballs>=2.3.0 in /usr/local/lib/python3.10/dist-packages (from aiohttp->datasets) (2.4.3)\n",
            "Requirement already satisfied: aiosignal>=1.1.2 in /usr/local/lib/python3.10/dist-packages (from aiohttp->datasets) (1.3.1)\n",
            "Requirement already satisfied: attrs>=17.3.0 in /usr/local/lib/python3.10/dist-packages (from aiohttp->datasets) (24.2.0)\n",
            "Requirement already satisfied: frozenlist>=1.1.1 in /usr/local/lib/python3.10/dist-packages (from aiohttp->datasets) (1.5.0)\n",
            "Requirement already satisfied: multidict<7.0,>=4.5 in /usr/local/lib/python3.10/dist-packages (from aiohttp->datasets) (6.1.0)\n",
            "Requirement already satisfied: propcache>=0.2.0 in /usr/local/lib/python3.10/dist-packages (from aiohttp->datasets) (0.2.0)\n",
            "Requirement already satisfied: yarl<2.0,>=1.17.0 in /usr/local/lib/python3.10/dist-packages (from aiohttp->datasets) (1.17.2)\n",
            "Requirement already satisfied: async-timeout<6.0,>=4.0 in /usr/local/lib/python3.10/dist-packages (from aiohttp->datasets) (4.0.3)\n",
            "Requirement already satisfied: typing-extensions>=3.7.4.3 in /usr/local/lib/python3.10/dist-packages (from huggingface-hub<1.0,>=0.23.2->transformers) (4.12.2)\n",
            "Requirement already satisfied: charset-normalizer<4,>=2 in /usr/local/lib/python3.10/dist-packages (from requests->kagglehub) (3.4.0)\n",
            "Requirement already satisfied: idna<4,>=2.5 in /usr/local/lib/python3.10/dist-packages (from requests->kagglehub) (3.10)\n",
            "Requirement already satisfied: urllib3<3,>=1.21.1 in /usr/local/lib/python3.10/dist-packages (from requests->kagglehub) (2.2.3)\n",
            "Requirement already satisfied: certifi>=2017.4.17 in /usr/local/lib/python3.10/dist-packages (from requests->kagglehub) (2024.8.30)\n",
            "Requirement already satisfied: python-dateutil>=2.8.2 in /usr/local/lib/python3.10/dist-packages (from pandas->datasets) (2.8.2)\n",
            "Requirement already satisfied: pytz>=2020.1 in /usr/local/lib/python3.10/dist-packages (from pandas->datasets) (2024.2)\n",
            "Requirement already satisfied: tzdata>=2022.7 in /usr/local/lib/python3.10/dist-packages (from pandas->datasets) (2024.2)\n",
            "Requirement already satisfied: six>=1.5 in /usr/local/lib/python3.10/dist-packages (from python-dateutil>=2.8.2->pandas->datasets) (1.16.0)\n",
            "Path to dataset files: /root/.cache/kagglehub/datasets/lakshmi25npathi/imdb-dataset-of-50k-movie-reviews/versions/1\n"
          ]
        }
      ],
      "source": [
        "!pip install kagglehub transformers datasets scikit-learn\n",
        "\n",
        "import kagglehub\n",
        "\n",
        "# Download latest version\n",
        "path = kagglehub.dataset_download(\"lakshmi25npathi/imdb-dataset-of-50k-movie-reviews\")\n",
        "\n",
        "print(\"Path to dataset files:\", path)\n",
        "\n"
      ]
    },
    {
      "cell_type": "markdown",
      "source": [
        "2. Preprocessing: Load and preprocess the dataset suitable for input into DistilBERT and clasical.\n",
        "\n",
        "  Discuss any data splitting."
      ],
      "metadata": {
        "id": "O-UG2QLWEvPm"
      }
    },
    {
      "cell_type": "code",
      "source": [
        "import pandas as pd\n",
        "from sklearn.model_selection import train_test_split\n",
        "from transformers import DistilBertTokenizer\n",
        "import torch\n",
        "\n",
        "# Load the dataset\n",
        "data_path = f\"{path}/IMDB Dataset.csv\"\n",
        "df = pd.read_csv(data_path)\n",
        "\n",
        "# Map sentiment labels to integers\n",
        "df['sentiment'] = df['sentiment'].map({'positive': 1, 'negative': 0})\n",
        "\n",
        "# Print original dataset size\n",
        "print(f\"Original dataset size: {len(df)} reviews\")\n",
        "\n",
        "# Define the size limiter\n",
        "size_limit = 0.005  # Set this to any fraction (0.1 = 10% of the dataset)\n",
        "\n",
        "# Split into train and test sets\n",
        "train_texts, test_texts, train_labels, test_labels = train_test_split(\n",
        "    df['review'], df['sentiment'], test_size=0.2, stratify=df['sentiment']\n",
        ")\n",
        "\n",
        "# Print the size of the train/test split\n",
        "print(\"\\nDataset was split %80/%20 for training/testing\")\n",
        "print(f\"After split: {len(train_texts)} training reviews and {len(test_texts)} test reviews\")\n",
        "\n",
        "# Apply the size limiter for testing (if size_limit < 1.0, reduce the dataset size)\n",
        "if size_limit < 1.0:\n",
        "    # Limit the size of training and testing datasets\n",
        "    train_texts = train_texts[:int(len(train_texts) * size_limit)]\n",
        "    train_labels = train_labels[:int(len(train_labels) * size_limit)]\n",
        "    test_texts = test_texts[:int(len(test_texts) * size_limit)]\n",
        "    test_labels = test_labels[:int(len(test_labels) * size_limit)]\n",
        "\n",
        "    # Print the reduced dataset size\n",
        "    print(\"\\nDataset is too large for smallscale testing, so it is reduced for testing.\")\n",
        "    print(f\"Reduced dataset size: {len(train_texts)} training reviews and {len(test_texts)} test reviews\")\n",
        "\n",
        "# Tokenization and padding for DistilBERT\n",
        "tokenizer = DistilBertTokenizer.from_pretrained('distilbert-base-uncased')\n",
        "\n",
        "def tokenize_data(texts):\n",
        "    return tokenizer(\n",
        "        texts.tolist(),\n",
        "        padding=True,\n",
        "        truncation=True,\n",
        "        max_length=512,\n",
        "        return_tensors=\"pt\"\n",
        "    )\n",
        "\n",
        "train_encodings = tokenize_data(train_texts)\n",
        "test_encodings = tokenize_data(test_texts)\n",
        "\n",
        "# Save the tokenized data and labels as torch tensors for later use\n",
        "torch.save(train_encodings, \"train_encodings.pt\")\n",
        "torch.save(test_encodings, \"test_encodings.pt\")\n",
        "torch.save(torch.tensor(train_labels.values), \"train_labels.pt\")\n",
        "torch.save(torch.tensor(test_labels.values), \"test_labels.pt\")\n",
        "#print(train_texts.values)\n",
        "#print(test_texts.values)\n",
        "#print(train_labels.values)\n",
        "#print(test_labels.values)\n",
        "print(\"Data preprocessing completed and saved.\")\n",
        "\n"
      ],
      "metadata": {
        "colab": {
          "base_uri": "https://localhost:8080/"
        },
        "id": "0czpBrkUvDyJ",
        "outputId": "4b33e804-fa4d-40c4-e69a-00cce03eec4a"
      },
      "execution_count": 44,
      "outputs": [
        {
          "output_type": "stream",
          "name": "stdout",
          "text": [
            "Original dataset size: 50000 reviews\n",
            "\n",
            "Dataset was split %80/%20 for training/testing\n",
            "After split: 40000 training reviews and 10000 test reviews\n",
            "\n",
            "Dataset is too large for smallscale testing, so it is reduced for testing.\n",
            "Reduced dataset size: 200 training reviews and 50 test reviews\n",
            "Data preprocessing completed and saved.\n"
          ]
        }
      ]
    },
    {
      "cell_type": "markdown",
      "source": [
        "3. Fine-Tuning DistilBERT: Fine-tune the pre-trained DistilBERT model on the training portion of the IMDB dataset.\n",
        "\n",
        "  Monitor the training process (e.g., training loss, validation loss)."
      ],
      "metadata": {
        "id": "2NtrXNl9E_CF"
      }
    },
    {
      "cell_type": "code",
      "source": [
        "import torch\n",
        "from transformers import DistilBertForSequenceClassification, Trainer, TrainingArguments\n",
        "from torch.utils.data import Dataset\n",
        "from sklearn.metrics import accuracy_score\n",
        "import logging\n",
        "\n",
        "# Load the preprocessed data\n",
        "train_encodings = torch.load(\"train_encodings.pt\")\n",
        "test_encodings = torch.load(\"test_encodings.pt\")\n",
        "train_labels = torch.load(\"train_labels.pt\")\n",
        "test_labels = torch.load(\"test_labels.pt\")\n",
        "\n",
        "# Create a custom Dataset class\n",
        "class IMDbDataset(Dataset):\n",
        "    def __init__(self, encodings, labels):\n",
        "        self.encodings = encodings\n",
        "        self.labels = labels\n",
        "\n",
        "    def __len__(self):\n",
        "        return len(self.labels)\n",
        "\n",
        "    def __getitem__(self, idx):\n",
        "        item = {key: val[idx] for key, val in self.encodings.items()}\n",
        "        item['labels'] = self.labels[idx]\n",
        "        return item\n",
        "\n",
        "# Prepare datasets\n",
        "train_dataset = IMDbDataset(train_encodings, train_labels)\n",
        "test_dataset = IMDbDataset(test_encodings, test_labels)\n",
        "\n",
        "# Print dataset sizes\n",
        "print(f\"Train dataset size: {len(train_dataset)}\")\n",
        "print(f\"Test dataset size: {len(test_dataset)}\")\n",
        "\n",
        "# Set up logging\n",
        "logging.basicConfig(level=logging.INFO)  # Set logging level to INFO\n",
        "logger = logging.getLogger(__name__)\n",
        "\n",
        "# Load the pre-trained model\n",
        "model = DistilBertForSequenceClassification.from_pretrained(\"distilbert-base-uncased\", num_labels=2)\n",
        "\n",
        "# Define the compute_metrics function\n",
        "def compute_metrics(eval_pred):\n",
        "    logits, labels = eval_pred\n",
        "    predictions = logits.argmax(axis=-1)\n",
        "    accuracy = accuracy_score(labels, predictions)\n",
        "    return {\"accuracy\": accuracy}\n",
        "\n",
        "# Define training arguments with built-in logging\n",
        "training_args = TrainingArguments(\n",
        "    output_dir=\"./results\",\n",
        "    eval_strategy=\"epoch\",  # Evaluate after every epoch\n",
        "    save_strategy=\"epoch\",  # Save after every epoch\n",
        "    per_device_train_batch_size=8,\n",
        "    per_device_eval_batch_size=8,\n",
        "    num_train_epochs=3,\n",
        "    weight_decay=0.01,\n",
        "    logging_dir=\"./logs\",  # Log output directory\n",
        "    logging_steps=10,  # Log every 10 steps\n",
        "    report_to=\"tensorboard\",  # Enable TensorBoard reporting\n",
        "    load_best_model_at_end=True,  # Load the best model when training finishes\n",
        "    evaluation_strategy=\"epoch\",  # Evaluate after each epoch\n",
        "    logging_first_step=True,  # Log the first step to capture the start of training\n",
        ")\n",
        "\n",
        "# Define the Trainer with built-in logging\n",
        "trainer = Trainer(\n",
        "    model=model,\n",
        "    args=training_args,\n",
        "    train_dataset=train_dataset,\n",
        "    eval_dataset=test_dataset,\n",
        "    compute_metrics=compute_metrics,  # Add the metrics computation\n",
        ")\n",
        "\n",
        "# Fine-tune the model\n",
        "trainer.train()\n",
        "\n",
        "# Save the fine-tuned model and tokenizer\n",
        "model.save_pretrained(\"fine_tuned_distilbert\")\n",
        "tokenizer.save_pretrained(\"fine_tuned_distilbert\")\n",
        "\n",
        "# Extract and save accuracy from training logs\n",
        "train_logs = trainer.state.log_history\n",
        "\n",
        "# Save the logs for later analysis\n",
        "with open(\"training_logs.txt\", \"w\") as f:\n",
        "    for log in train_logs:\n",
        "        f.write(str(log) + \"\\n\")\n",
        "\n",
        "print(\"Training logs saved as 'training_logs.txt'.\")\n",
        "\n",
        "# After training, print a message\n",
        "print(\"Model fine-tuning completed.\")\n"
      ],
      "metadata": {
        "id": "pxP8skgTvEq2",
        "colab": {
          "base_uri": "https://localhost:8080/",
          "height": 294
        },
        "outputId": "a385f04c-dc66-4b07-ebd5-fef408093d23"
      },
      "execution_count": 45,
      "outputs": [
        {
          "output_type": "stream",
          "name": "stdout",
          "text": [
            "Train dataset size: 200\n",
            "Test dataset size: 50\n"
          ]
        },
        {
          "output_type": "stream",
          "name": "stderr",
          "text": [
            "Some weights of DistilBertForSequenceClassification were not initialized from the model checkpoint at distilbert-base-uncased and are newly initialized: ['classifier.bias', 'classifier.weight', 'pre_classifier.bias', 'pre_classifier.weight']\n",
            "You should probably TRAIN this model on a down-stream task to be able to use it for predictions and inference.\n"
          ]
        },
        {
          "output_type": "display_data",
          "data": {
            "text/plain": [
              "<IPython.core.display.HTML object>"
            ],
            "text/html": [
              "\n",
              "    <div>\n",
              "      \n",
              "      <progress value='75' max='75' style='width:300px; height:20px; vertical-align: middle;'></progress>\n",
              "      [75/75 34:24, Epoch 3/3]\n",
              "    </div>\n",
              "    <table border=\"1\" class=\"dataframe\">\n",
              "  <thead>\n",
              " <tr style=\"text-align: left;\">\n",
              "      <th>Epoch</th>\n",
              "      <th>Training Loss</th>\n",
              "      <th>Validation Loss</th>\n",
              "      <th>Accuracy</th>\n",
              "    </tr>\n",
              "  </thead>\n",
              "  <tbody>\n",
              "    <tr>\n",
              "      <td>1</td>\n",
              "      <td>0.591900</td>\n",
              "      <td>0.480761</td>\n",
              "      <td>0.820000</td>\n",
              "    </tr>\n",
              "    <tr>\n",
              "      <td>2</td>\n",
              "      <td>0.179000</td>\n",
              "      <td>0.544055</td>\n",
              "      <td>0.780000</td>\n",
              "    </tr>\n",
              "    <tr>\n",
              "      <td>3</td>\n",
              "      <td>0.048000</td>\n",
              "      <td>0.467841</td>\n",
              "      <td>0.820000</td>\n",
              "    </tr>\n",
              "  </tbody>\n",
              "</table><p>"
            ]
          },
          "metadata": {}
        },
        {
          "output_type": "stream",
          "name": "stdout",
          "text": [
            "Training logs saved as 'training_logs.txt'.\n",
            "Model fine-tuning completed.\n"
          ]
        }
      ]
    },
    {
      "cell_type": "markdown",
      "source": [
        "4. Base Model Comparison: Use the pre-trained DistilBERT model without fine-tuning to classify the test set.\n",
        "\n",
        "  Compare the results of the fine-tuned DistilBERT with the base model."
      ],
      "metadata": {
        "id": "3xwyCwJkngJb"
      }
    },
    {
      "cell_type": "code",
      "source": [
        "import warnings\n",
        "from transformers import DistilBertForSequenceClassification, DistilBertTokenizer\n",
        "import torch\n",
        "\n",
        "\n",
        "# Load the pre-trained DistilBERT model and tokenizer (without fine-tuning)\n",
        "model_base = DistilBertForSequenceClassification.from_pretrained(\"distilbert-base-uncased\", num_labels=2)\n",
        "tokenizer = DistilBertTokenizer.from_pretrained(\"distilbert-base-uncased\")\n",
        "\n",
        "# Load the fine-tuned model\n",
        "fine_tuned_model = DistilBertForSequenceClassification.from_pretrained(\"fine_tuned_distilbert\")\n",
        "\n",
        "# Function to evaluate model\n",
        "def evaluate_model(model, test_encodings, test_labels):\n",
        "    model.eval()  # Set model to evaluation mode\n",
        "    inputs = torch.tensor(test_encodings['input_ids'])\n",
        "    attention_mask = torch.tensor(test_encodings['attention_mask'])\n",
        "\n",
        "    # Forward pass\n",
        "    with torch.no_grad():\n",
        "        outputs = model(input_ids=inputs, attention_mask=attention_mask)\n",
        "\n",
        "    # Predictions\n",
        "    logits = outputs.logits\n",
        "    predictions = torch.argmax(logits, dim=-1)\n",
        "\n",
        "    # Compute accuracy\n",
        "    correct = (predictions == test_labels).sum().item()\n",
        "    accuracy = correct / len(test_labels)\n",
        "    return accuracy\n",
        "\n",
        "print()\n",
        "# Evaluate base model (without fine-tuning)\n",
        "base_accuracy = evaluate_model(model_base, test_encodings, test_labels)\n",
        "print(f\"Base DistilBERT Accuracy: {base_accuracy:.4f}\")\n",
        "\n",
        "# Fine-tuned model is already available from the trainer\n",
        "fine_tuned_accuracy = evaluate_model(fine_tuned_model, test_encodings, test_labels)\n",
        "print(f\"Fine-tuned DistilBERT Accuracy: {fine_tuned_accuracy:.4f}\")\n",
        "\n",
        "# Compare both the Fine-tuned and Base DistilBERT Accuracy\n",
        "if fine_tuned_accuracy > base_accuracy:\n",
        "    print(\"Fine-tuned DistilBERT performs better than the base model.\")\n",
        "    print(f\"Improvement: {fine_tuned_accuracy - base_accuracy:.4f}\")\n",
        "else:\n",
        "    print(\"The base model performs better than the fine-tuned model.\")\n",
        "    print(f\"Improvement: {base_accuracy - fine_tuned_accuracy:.4f}\")\n"
      ],
      "metadata": {
        "id": "ZSuAUbUUvI-Y",
        "colab": {
          "base_uri": "https://localhost:8080/"
        },
        "outputId": "1d2f0b86-1f2b-4922-80b7-a22e650d2acf"
      },
      "execution_count": 46,
      "outputs": [
        {
          "output_type": "stream",
          "name": "stderr",
          "text": [
            "Some weights of DistilBertForSequenceClassification were not initialized from the model checkpoint at distilbert-base-uncased and are newly initialized: ['classifier.bias', 'classifier.weight', 'pre_classifier.bias', 'pre_classifier.weight']\n",
            "You should probably TRAIN this model on a down-stream task to be able to use it for predictions and inference.\n"
          ]
        },
        {
          "output_type": "stream",
          "name": "stdout",
          "text": [
            "\n"
          ]
        },
        {
          "output_type": "stream",
          "name": "stderr",
          "text": [
            "<ipython-input-46-886f2ce45b0f>:16: UserWarning: To copy construct from a tensor, it is recommended to use sourceTensor.clone().detach() or sourceTensor.clone().detach().requires_grad_(True), rather than torch.tensor(sourceTensor).\n",
            "  inputs = torch.tensor(test_encodings['input_ids'])\n",
            "<ipython-input-46-886f2ce45b0f>:17: UserWarning: To copy construct from a tensor, it is recommended to use sourceTensor.clone().detach() or sourceTensor.clone().detach().requires_grad_(True), rather than torch.tensor(sourceTensor).\n",
            "  attention_mask = torch.tensor(test_encodings['attention_mask'])\n"
          ]
        },
        {
          "output_type": "stream",
          "name": "stdout",
          "text": [
            "Base DistilBERT Accuracy: 0.5600\n",
            "Fine-tuned DistilBERT Accuracy: 0.8200\n",
            "Fine-tuned DistilBERT performs better than the base model.\n",
            "Improvement: 0.2600\n"
          ]
        }
      ]
    },
    {
      "cell_type": "markdown",
      "source": [
        "5. Classical Machine Learning Model: Train at least one classical machine learning algorithm (e.g., Logistic Regression,\n",
        "Support Vector Machine, or Random Forest) on the same IMDB dataset, using\n",
        "TF-IDF features or Bag-of-Words representation.\n",
        "\n",
        "  Compare its performance with DistilBERT models (base and fine-tuned)."
      ],
      "metadata": {
        "id": "CcpP4zKdSsui"
      }
    },
    {
      "cell_type": "code",
      "source": [
        "# Logistic Regression for IMDB dataset (using preprocessed data)\n",
        "\n",
        "import torch\n",
        "from sklearn.linear_model import LogisticRegression\n",
        "from sklearn.metrics import accuracy_score\n",
        "from sklearn.feature_extraction.text import TfidfVectorizer\n",
        "import joblib\n",
        "\n",
        "# Load preprocessed encodings\n",
        "train_encodings = torch.load(\"train_encodings.pt\")\n",
        "test_encodings = torch.load(\"test_encodings.pt\")\n",
        "train_labels = torch.load(\"train_labels.pt\")\n",
        "test_labels = torch.load(\"test_labels.pt\")\n",
        "\n",
        "# Decode tokenized data into raw text for Logistic Regression\n",
        "def decode_tokens(input_ids_tensor):\n",
        "    # Convert the tensor to a list and then decode it\n",
        "    return tokenizer.decode(input_ids_tensor.tolist(), skip_special_tokens=True)\n",
        "\n",
        "# Decode tokenized data into raw text for Logistic Regression\n",
        "train_texts = [decode_tokens(input_ids) for input_ids in train_encodings['input_ids']]\n",
        "test_texts = [decode_tokens(input_ids) for input_ids in test_encodings['input_ids']]\n",
        "\n",
        "# Convert text data to TF-IDF vectors\n",
        "vectorizer = TfidfVectorizer(max_features=5000)\n",
        "train_vectors = vectorizer.fit_transform(train_texts)\n",
        "test_vectors = vectorizer.transform(test_texts)\n",
        "\n",
        "# Train Logistic Regression model\n",
        "lr_model = LogisticRegression(max_iter=1000)\n",
        "lr_model.fit(train_vectors, train_labels)\n",
        "\n",
        "# Evaluate Logistic Regression model\n",
        "lr_predictions = lr_model.predict(test_vectors)\n",
        "lr_accuracy = accuracy_score(test_labels, lr_predictions)\n",
        "\n",
        "print(f\"Logistic Regression Accuracy: {lr_accuracy:.4f}\")\n",
        "\n",
        "# Save the trained model and vectorizer\n",
        "joblib.dump(lr_model, 'lr_model.pkl')\n",
        "joblib.dump(vectorizer, 'tfidf_vectorizer.pkl')\n",
        "\n",
        "# Loading and using the saved model for prediction (test code)\n",
        "def predict_sentiment(texts, model_filename='lr_model.pkl', vectorizer_filename='tfidf_vectorizer.pkl'):\n",
        "    # Load the saved model and vectorizer\n",
        "    lr_model = joblib.load(model_filename)\n",
        "    vectorizer = joblib.load(vectorizer_filename)\n",
        "\n",
        "    # Convert texts to TF-IDF features\n",
        "    vectors = vectorizer.transform(texts)\n",
        "\n",
        "    # Predict sentiment (0: negative, 1: positive)\n",
        "    predictions = lr_model.predict(vectors)\n",
        "    return predictions\n",
        "\n",
        "# Example usage of the prediction function\n",
        "new_texts = [\"I love this movie!\", \"This was a terrible movie.\"]\n",
        "predictions = predict_sentiment(new_texts)\n",
        "print(f\"Predictions: {predictions}\")  # Output will be [1, 0] (1: Positive, 0: Negative)\n"
      ],
      "metadata": {
        "colab": {
          "base_uri": "https://localhost:8080/"
        },
        "id": "th6jwEwqStM4",
        "outputId": "22a410f5-410e-46ff-fb04-6747a26758bd"
      },
      "execution_count": 47,
      "outputs": [
        {
          "output_type": "stream",
          "name": "stdout",
          "text": [
            "Logistic Regression Accuracy: 0.7600\n",
            "Predictions: [1 0]\n"
          ]
        }
      ]
    },
    {
      "cell_type": "markdown",
      "source": [
        "Comparing Linear Regression, Base DistilBERT, and Fine-Tuned DistilBERT accuracy."
      ],
      "metadata": {
        "id": "gf4yc3NoFTuc"
      }
    },
    {
      "cell_type": "code",
      "source": [
        "import warnings\n",
        "from transformers import DistilBertForSequenceClassification, DistilBertTokenizer\n",
        "import torch\n",
        "from sklearn.linear_model import LogisticRegression\n",
        "from sklearn.metrics import accuracy_score\n",
        "from sklearn.feature_extraction.text import TfidfVectorizer\n",
        "import joblib\n",
        "\n",
        "# Suppress warnings\n",
        "warnings.simplefilter(\"ignore\", category=FutureWarning)\n",
        "\n",
        "# Load pre-trained and fine-tuned models\n",
        "model_base = DistilBertForSequenceClassification.from_pretrained(\"distilbert-base-uncased\", num_labels=2)\n",
        "fine_tuned_model = DistilBertForSequenceClassification.from_pretrained(\"fine_tuned_distilbert\")\n",
        "tokenizer = DistilBertTokenizer.from_pretrained(\"distilbert-base-uncased\")\n",
        "\n",
        "# Load preprocessed data\n",
        "train_encodings = torch.load(\"train_encodings.pt\")\n",
        "test_encodings = torch.load(\"test_encodings.pt\")\n",
        "train_labels = torch.load(\"train_labels.pt\")\n",
        "test_labels = torch.load(\"test_labels.pt\")\n",
        "\n",
        "# Function to evaluate a model\n",
        "def evaluate_model(model, test_encodings, test_labels):\n",
        "    model.eval()\n",
        "    inputs = torch.tensor(test_encodings['input_ids'])\n",
        "    attention_mask = torch.tensor(test_encodings['attention_mask'])\n",
        "    with torch.no_grad():\n",
        "        outputs = model(input_ids=inputs, attention_mask=attention_mask)\n",
        "    logits = outputs.logits\n",
        "    predictions = torch.argmax(logits, dim=-1)\n",
        "    correct = (predictions == test_labels).sum().item()\n",
        "    return correct / len(test_labels)\n",
        "\n",
        "# Evaluate base and fine-tuned DistilBERT models\n",
        "base_accuracy = evaluate_model(model_base, test_encodings, test_labels)\n",
        "fine_tuned_accuracy = evaluate_model(fine_tuned_model, test_encodings, test_labels)\n",
        "\n",
        "# Decode tokenized data into raw text for logistic regression\n",
        "def decode_tokens(input_ids_tensor):\n",
        "    return tokenizer.decode(input_ids_tensor.tolist(), skip_special_tokens=True)\n",
        "\n",
        "train_texts = [decode_tokens(input_ids) for input_ids in train_encodings['input_ids']]\n",
        "test_texts = [decode_tokens(input_ids) for input_ids in test_encodings['input_ids']]\n",
        "\n",
        "# TF-IDF vectorization\n",
        "vectorizer = TfidfVectorizer(max_features=5000)\n",
        "train_vectors = vectorizer.fit_transform(train_texts)\n",
        "test_vectors = vectorizer.transform(test_texts)\n",
        "\n",
        "# Logistic regression model training\n",
        "lr_model = LogisticRegression(max_iter=1000)\n",
        "lr_model.fit(train_vectors, train_labels)\n",
        "\n",
        "# Evaluate logistic regression\n",
        "lr_predictions = lr_model.predict(test_vectors)\n",
        "lr_accuracy = accuracy_score(test_labels, lr_predictions)\n",
        "\n",
        "# Save models and vectorizer\n",
        "joblib.dump(lr_model, 'lr_model.pkl')\n",
        "joblib.dump(vectorizer, 'tfidf_vectorizer.pkl')\n",
        "\n",
        "# Print comparison results\n",
        "print(f\"Logistic Regression Accuracy: {lr_accuracy:.4f}\")\n",
        "print(f\"Base DistilBERT Accuracy: {base_accuracy:.4f}\")\n",
        "print(f\"Fine-tuned DistilBERT Accuracy: {fine_tuned_accuracy:.4f}\")\n",
        "\n",
        "# Compare and determine the best model\n",
        "if fine_tuned_accuracy > max(base_accuracy, lr_accuracy):\n",
        "    print(\"The fine-tuned DistilBERT model performs the best.\")\n",
        "elif base_accuracy > max(fine_tuned_accuracy, lr_accuracy):\n",
        "    print(\"The base DistilBERT model performs the best.\")\n",
        "elif lr_accuracy > max(fine_tuned_accuracy, base_accuracy):\n",
        "    print(\"The logistic regression model performs the best.\")\n",
        "else:\n",
        "    print(\"All models have the same accuracy.\")\n"
      ],
      "metadata": {
        "colab": {
          "base_uri": "https://localhost:8080/"
        },
        "id": "tc3doIVjFbwQ",
        "outputId": "a71e52f2-52c3-4fa2-8eba-e744b8fde6d1"
      },
      "execution_count": 48,
      "outputs": [
        {
          "output_type": "stream",
          "name": "stderr",
          "text": [
            "Some weights of DistilBertForSequenceClassification were not initialized from the model checkpoint at distilbert-base-uncased and are newly initialized: ['classifier.bias', 'classifier.weight', 'pre_classifier.bias', 'pre_classifier.weight']\n",
            "You should probably TRAIN this model on a down-stream task to be able to use it for predictions and inference.\n",
            "<ipython-input-48-dc79413ac9cf>:26: UserWarning: To copy construct from a tensor, it is recommended to use sourceTensor.clone().detach() or sourceTensor.clone().detach().requires_grad_(True), rather than torch.tensor(sourceTensor).\n",
            "  inputs = torch.tensor(test_encodings['input_ids'])\n",
            "<ipython-input-48-dc79413ac9cf>:27: UserWarning: To copy construct from a tensor, it is recommended to use sourceTensor.clone().detach() or sourceTensor.clone().detach().requires_grad_(True), rather than torch.tensor(sourceTensor).\n",
            "  attention_mask = torch.tensor(test_encodings['attention_mask'])\n"
          ]
        },
        {
          "output_type": "stream",
          "name": "stdout",
          "text": [
            "Logistic Regression Accuracy: 0.7600\n",
            "Base DistilBERT Accuracy: 0.4200\n",
            "Fine-tuned DistilBERT Accuracy: 0.8200\n",
            "The fine-tuned DistilBERT model performs the best.\n"
          ]
        }
      ]
    },
    {
      "cell_type": "markdown",
      "source": [
        "# Analysis and Graphs:\n",
        "1. Accureacy and Loss Curves: Plot the training and validation accuracy and loss over epochs for the fine-tuned DistilBERT model.\n"
      ],
      "metadata": {
        "id": "h9ef6zHJWgB3"
      }
    },
    {
      "cell_type": "code",
      "source": [
        "import matplotlib.pyplot as plt\n",
        "\n",
        "# Extract the training logs (trainer state)\n",
        "train_logs = trainer.state.log_history\n",
        "\n",
        "# Initialize lists for storing metrics\n",
        "train_loss = []\n",
        "val_loss = []\n",
        "train_accuracy = []\n",
        "val_accuracy = []\n",
        "\n",
        "# Loop through logs and collect loss and accuracy\n",
        "for log in train_logs:\n",
        "    if 'loss' in log:\n",
        "        train_loss.append(log['loss'])\n",
        "    if 'eval_loss' in log:\n",
        "        val_loss.append(log['eval_loss'])\n",
        "    if 'eval_accuracy' in log:\n",
        "        val_accuracy.append(log['eval_accuracy'])\n",
        "    if 'accuracy' in log:\n",
        "        train_accuracy.append(log['accuracy'])\n",
        "\n",
        "# Plot the training and validation loss\n",
        "plt.figure(figsize=(12, 6))\n",
        "plt.subplot(1, 2, 1)\n",
        "plt.plot(train_loss, label='Train Loss')\n",
        "plt.plot(val_loss, label='Validation Loss')\n",
        "plt.title(\"Training and Validation Loss\")\n",
        "plt.xlabel(\"Epochs\")\n",
        "plt.ylabel(\"Loss\")\n",
        "plt.legend()\n",
        "\n",
        "# Plot the training and validation accuracy\n",
        "plt.subplot(1, 2, 2)\n",
        "plt.plot(train_accuracy, label='Train Accuracy')\n",
        "plt.plot(val_accuracy, label='Validation Accuracy')\n",
        "plt.title(\"Training and Validation Accuracy\")\n",
        "plt.xlabel(\"Epochs\")\n",
        "plt.ylabel(\"Accuracy\")\n",
        "plt.legend()\n",
        "\n",
        "# Display the plots\n",
        "plt.tight_layout()\n",
        "plt.show()\n"
      ],
      "metadata": {
        "colab": {
          "base_uri": "https://localhost:8080/",
          "height": 431
        },
        "id": "P5CVUSMFWgsZ",
        "outputId": "fe5a5b17-07c0-4b3e-95a4-a88047f07295"
      },
      "execution_count": 49,
      "outputs": [
        {
          "output_type": "display_data",
          "data": {
            "text/plain": [
              "<Figure size 1200x600 with 2 Axes>"
            ],
            "image/png": "[encoded data removed]"
          },
          "metadata": {}
        }
      ]
    },
    {
      "cell_type": "markdown",
      "source": [
        "2. Confusion Matrix:"
      ],
      "metadata": {
        "id": "vLA5d31CYAuH"
      }
    },
    {
      "cell_type": "code",
      "source": [
        "from sklearn.metrics import confusion_matrix, ConfusionMatrixDisplay\n",
        "import numpy as np\n",
        "import matplotlib.pyplot as plt\n",
        "\n",
        "# Predict on the test dataset\n",
        "predictions = trainer.predict(test_dataset)\n",
        "pred_labels = np.argmax(predictions.predictions, axis=1)\n",
        "\n",
        "# Generate the confusion matrix\n",
        "cm = confusion_matrix(test_labels, pred_labels)\n",
        "\n",
        "# Display the confusion matrix\n",
        "disp = ConfusionMatrixDisplay(confusion_matrix=cm, display_labels=[\"Negative\", \"Positive\"])\n",
        "disp.plot(cmap=plt.cm.Blues)\n",
        "plt.title(\"Confusion Matrix for Fine-Tuned DistilBERT\")\n",
        "plt.show()\n",
        "\n",
        "# Print the confusion matrix\n",
        "print(\"Fine-Tuned Confusion Matrix:\")\n",
        "print(cm)\n"
      ],
      "metadata": {
        "colab": {
          "base_uri": "https://localhost:8080/",
          "height": 524
        },
        "id": "HtWw8jwFnJfJ",
        "outputId": "ae234d4c-a42a-4916-b11a-6465e849875e"
      },
      "execution_count": 50,
      "outputs": [
        {
          "output_type": "display_data",
          "data": {
            "text/plain": [
              "<IPython.core.display.HTML object>"
            ],
            "text/html": []
          },
          "metadata": {}
        },
        {
          "output_type": "display_data",
          "data": {
            "text/plain": [
              "<Figure size 640x480 with 2 Axes>"
            ],
            "image/png": "[encoded data removed]"
          },
          "metadata": {}
        },
        {
          "output_type": "stream",
          "name": "stdout",
          "text": [
            "Fine-Tuned Confusion Matrix:\n",
            "[[20  8]\n",
            " [ 1 21]]\n"
          ]
        }
      ]
    },
    {
      "cell_type": "code",
      "source": [
        "from sklearn.metrics import confusion_matrix, ConfusionMatrixDisplay\n",
        "import numpy as np\n",
        "import matplotlib.pyplot as plt\n",
        "\n",
        "# Function to generate predictions for confusion matrix\n",
        "def get_predictions(model, test_encodings):\n",
        "    model.eval()  # Set model to evaluation mode\n",
        "    inputs = torch.tensor(test_encodings['input_ids'])\n",
        "    attention_mask = torch.tensor(test_encodings['attention_mask'])\n",
        "\n",
        "    with torch.no_grad():\n",
        "        outputs = model(input_ids=inputs, attention_mask=attention_mask)\n",
        "\n",
        "    logits = outputs.logits\n",
        "    predictions = torch.argmax(logits, dim=-1)\n",
        "    return predictions\n",
        "\n",
        "# Generate predictions for base model\n",
        "base_predictions = get_predictions(model_base, test_encodings)\n",
        "\n",
        "# Compute confusion matrix for base model\n",
        "cm_base = confusion_matrix(test_labels, base_predictions)\n",
        "disp_base = ConfusionMatrixDisplay(confusion_matrix=cm_base, display_labels=[\"Negative\", \"Positive\"])\n",
        "disp_base.plot(cmap=plt.cm.Blues)\n",
        "plt.title(\"Confusion Matrix for Base DistilBERT\")\n",
        "plt.show()\n",
        "\n",
        "\n",
        "# Print the confusion matrix\n",
        "print(\"Base Model Confusion Matrix:\")\n",
        "print(cm_base)\n"
      ],
      "metadata": {
        "colab": {
          "base_uri": "https://localhost:8080/",
          "height": 614
        },
        "id": "DzFBW2OnnrVl",
        "outputId": "11154a54-d604-4f44-e7fc-cda8f4a17a8b"
      },
      "execution_count": 51,
      "outputs": [
        {
          "output_type": "stream",
          "name": "stderr",
          "text": [
            "<ipython-input-51-9f517c846237>:8: UserWarning: To copy construct from a tensor, it is recommended to use sourceTensor.clone().detach() or sourceTensor.clone().detach().requires_grad_(True), rather than torch.tensor(sourceTensor).\n",
            "  inputs = torch.tensor(test_encodings['input_ids'])\n",
            "<ipython-input-51-9f517c846237>:9: UserWarning: To copy construct from a tensor, it is recommended to use sourceTensor.clone().detach() or sourceTensor.clone().detach().requires_grad_(True), rather than torch.tensor(sourceTensor).\n",
            "  attention_mask = torch.tensor(test_encodings['attention_mask'])\n"
          ]
        },
        {
          "output_type": "display_data",
          "data": {
            "text/plain": [
              "<Figure size 640x480 with 2 Axes>"
            ],
            "image/png": "[encoded data removed]"
          },
          "metadata": {}
        },
        {
          "output_type": "stream",
          "name": "stdout",
          "text": [
            "Base Model Confusion Matrix:\n",
            "[[10 18]\n",
            " [11 11]]\n"
          ]
        }
      ]
    },
    {
      "cell_type": "code",
      "source": [
        "from sklearn.metrics import confusion_matrix, ConfusionMatrixDisplay\n",
        "import matplotlib.pyplot as plt\n",
        "\n",
        "# Generate confusion matrix\n",
        "cm = confusion_matrix(test_labels, lr_predictions)\n",
        "\n",
        "# Display the confusion matrix\n",
        "disp = ConfusionMatrixDisplay(confusion_matrix=cm, display_labels=[\"Negative\", \"Positive\"])\n",
        "disp.plot(cmap=plt.cm.Blues)\n",
        "plt.title(\"Confusion Matrix for Logistic Regression\")\n",
        "plt.show()\n",
        "\n",
        "# Print the confusion matrix\n",
        "print(\"Logistic Regression Confusion Matrix:\")\n",
        "print(cm)\n"
      ],
      "metadata": {
        "colab": {
          "base_uri": "https://localhost:8080/",
          "height": 524
        },
        "id": "NUajJLMZ__ig",
        "outputId": "64bbddcc-2883-494f-a73b-d384ed47e950"
      },
      "execution_count": 52,
      "outputs": [
        {
          "output_type": "display_data",
          "data": {
            "text/plain": [
              "<Figure size 640x480 with 2 Axes>"
            ],
            "image/png": "[encoded data removed]"
          },
          "metadata": {}
        },
        {
          "output_type": "stream",
          "name": "stdout",
          "text": [
            "Logistic Regression Confusion Matrix:\n",
            "[[21  7]\n",
            " [ 5 17]]\n"
          ]
        }
      ]
    },
    {
      "cell_type": "markdown",
      "source": [
        "3. Precision, Recall, and F1-Score: Reporct and compare the precision, recall, and F1-scores of all models.\n",
        "\n",
        "4. Performance Comparison: Create a comparative table with the evaluation metrics (accuracy, precision, recall, F1-score)"
      ],
      "metadata": {
        "id": "gqybXfA6JsCa"
      }
    },
    {
      "cell_type": "code",
      "source": [
        "from sklearn.metrics import classification_report\n",
        "import torch\n",
        "import numpy as np\n",
        "from prettytable import PrettyTable\n",
        "\n",
        "# Define a function to compute metrics with zero_division=0\n",
        "def compute_metrics(predictions, labels):\n",
        "    report = classification_report(labels, predictions, target_names=['Negative', 'Positive'], zero_division=0, output_dict=True)\n",
        "    accuracy = report['accuracy']\n",
        "    return report, accuracy\n",
        "\n",
        "# Logistic Regression Metrics\n",
        "lr_predictions = lr_model.predict(test_vectors)  # Already computed in logistic regression section\n",
        "lr_report, lr_accuracy = compute_metrics(lr_predictions, test_labels)\n",
        "print(\"Logistic Regression Metrics:\\n\")\n",
        "print(lr_report)\n",
        "\n",
        "# Base DistilBERT Model Metrics\n",
        "model_base.eval()\n",
        "inputs = test_encodings['input_ids'].clone().detach()\n",
        "attention_mask = test_encodings['attention_mask'].clone().detach()\n",
        "\n",
        "with torch.no_grad():\n",
        "    base_outputs = model_base(input_ids=inputs, attention_mask=attention_mask)\n",
        "\n",
        "base_predictions = torch.argmax(base_outputs.logits, dim=-1).numpy()\n",
        "base_report, base_accuracy = compute_metrics(base_predictions, test_labels.numpy())\n",
        "print(\"\\nBase DistilBERT Metrics:\\n\")\n",
        "print(base_report)\n",
        "\n",
        "# Fine-tuned DistilBERT Model Metrics\n",
        "fine_tuned_model.eval()\n",
        "\n",
        "with torch.no_grad():\n",
        "    fine_tuned_outputs = fine_tuned_model(input_ids=inputs, attention_mask=attention_mask)\n",
        "\n",
        "fine_tuned_predictions = torch.argmax(fine_tuned_outputs.logits, dim=-1).numpy()\n",
        "fine_tuned_report, fine_tuned_accuracy = compute_metrics(fine_tuned_predictions, test_labels.numpy())\n",
        "print(\"\\nFine-tuned DistilBERT Metrics:\\n\")\n",
        "print(fine_tuned_report)\n",
        "\n",
        "# Corrected Summary Comparison Table with Accuracy\n",
        "def display_comparison(lr_report, base_report, fine_tuned_report, lr_accuracy, base_accuracy, fine_tuned_accuracy):\n",
        "    def parse_report(report):\n",
        "        # Extract precision, recall, and f1-score for both Negative and Positive classes\n",
        "        metrics = {}\n",
        "        for label in ['Negative', 'Positive']:\n",
        "            if label in report:\n",
        "                metrics[label] = {\n",
        "                    'Precision': report[label]['precision'],\n",
        "                    'Recall': report[label]['recall'],\n",
        "                    'F1-Score': report[label]['f1-score']\n",
        "                }\n",
        "        return metrics\n",
        "\n",
        "    # Get reports for each model\n",
        "    lr_metrics = parse_report(lr_report)\n",
        "    base_metrics = parse_report(base_report)\n",
        "    fine_tuned_metrics = parse_report(fine_tuned_report)\n",
        "\n",
        "    # Create and display table with Accuracy, Precision, Recall, and F1-score\n",
        "    table = PrettyTable()\n",
        "    table.field_names = [\"Model\", \"Accuracy\", \"Precision (Avg)\", \"Recall (Avg)\", \"F1-Score (Avg)\"]\n",
        "\n",
        "    table.add_row([\n",
        "        \"Logistic Regression\",\n",
        "        round(lr_accuracy, 4),\n",
        "        round(lr_metrics['Positive']['Precision'], 4),\n",
        "        round(lr_metrics['Positive']['Recall'], 4),\n",
        "        round(lr_metrics['Positive']['F1-Score'], 4)\n",
        "    ])\n",
        "    table.add_row([\n",
        "        \"Base DistilBERT\",\n",
        "        round(base_accuracy, 4),\n",
        "        round(base_metrics['Positive']['Precision'], 4),\n",
        "        round(base_metrics['Positive']['Recall'], 4),\n",
        "        round(base_metrics['Positive']['F1-Score'], 4)\n",
        "    ])\n",
        "    table.add_row([\n",
        "        \"Fine-tuned DistilBERT\",\n",
        "        round(fine_tuned_accuracy, 4),\n",
        "        round(fine_tuned_metrics['Positive']['Precision'], 4),\n",
        "        round(fine_tuned_metrics['Positive']['Recall'], 4),\n",
        "        round(fine_tuned_metrics['Positive']['F1-Score'], 4)\n",
        "    ])\n",
        "\n",
        "    print(\"\\nModel Comparison:\\n\")\n",
        "    print(table)\n",
        "\n",
        "display_comparison(lr_report, base_report, fine_tuned_report, lr_accuracy, base_accuracy, fine_tuned_accuracy)\n"
      ],
      "metadata": {
        "colab": {
          "base_uri": "https://localhost:8080/"
        },
        "id": "UXDzY4xgJvhX",
        "outputId": "d5d4b2ef-c913-48f8-87a5-30503bdf846b"
      },
      "execution_count": 53,
      "outputs": [
        {
          "output_type": "stream",
          "name": "stdout",
          "text": [
            "Logistic Regression Metrics:\n",
            "\n",
            "{'Negative': {'precision': 0.8076923076923077, 'recall': 0.75, 'f1-score': 0.7777777777777778, 'support': 28.0}, 'Positive': {'precision': 0.7083333333333334, 'recall': 0.7727272727272727, 'f1-score': 0.7391304347826086, 'support': 22.0}, 'accuracy': 0.76, 'macro avg': {'precision': 0.7580128205128205, 'recall': 0.7613636363636364, 'f1-score': 0.7584541062801933, 'support': 50.0}, 'weighted avg': {'precision': 0.763974358974359, 'recall': 0.76, 'f1-score': 0.7607729468599034, 'support': 50.0}}\n",
            "\n",
            "Base DistilBERT Metrics:\n",
            "\n",
            "{'Negative': {'precision': 0.47619047619047616, 'recall': 0.35714285714285715, 'f1-score': 0.40816326530612246, 'support': 28.0}, 'Positive': {'precision': 0.3793103448275862, 'recall': 0.5, 'f1-score': 0.43137254901960786, 'support': 22.0}, 'accuracy': 0.42, 'macro avg': {'precision': 0.4277504105090312, 'recall': 0.4285714285714286, 'f1-score': 0.41976790716286516, 'support': 50.0}, 'weighted avg': {'precision': 0.4335632183908046, 'recall': 0.42, 'f1-score': 0.418375350140056, 'support': 50.0}}\n",
            "\n",
            "Fine-tuned DistilBERT Metrics:\n",
            "\n",
            "{'Negative': {'precision': 0.9523809523809523, 'recall': 0.7142857142857143, 'f1-score': 0.8163265306122449, 'support': 28.0}, 'Positive': {'precision': 0.7241379310344828, 'recall': 0.9545454545454546, 'f1-score': 0.8235294117647058, 'support': 22.0}, 'accuracy': 0.82, 'macro avg': {'precision': 0.8382594417077176, 'recall': 0.8344155844155845, 'f1-score': 0.8199279711884754, 'support': 50.0}, 'weighted avg': {'precision': 0.8519540229885056, 'recall': 0.82, 'f1-score': 0.8194957983193276, 'support': 50.0}}\n",
            "\n",
            "Model Comparison:\n",
            "\n",
            "+-----------------------+----------+-----------------+--------------+----------------+\n",
            "|         Model         | Accuracy | Precision (Avg) | Recall (Avg) | F1-Score (Avg) |\n",
            "+-----------------------+----------+-----------------+--------------+----------------+\n",
            "|  Logistic Regression  |   0.76   |      0.7083     |    0.7727    |     0.7391     |\n",
            "|    Base DistilBERT    |   0.42   |      0.3793     |     0.5      |     0.4314     |\n",
            "| Fine-tuned DistilBERT |   0.82   |      0.7241     |    0.9545    |     0.8235     |\n",
            "+-----------------------+----------+-----------------+--------------+----------------+\n"
          ]
        }
      ]
    }
  ]
}